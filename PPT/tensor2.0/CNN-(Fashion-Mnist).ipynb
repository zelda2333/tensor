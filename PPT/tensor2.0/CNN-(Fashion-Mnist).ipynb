{
 "cells": [
  {
   "cell_type": "code",
   "execution_count": 1,
   "metadata": {
    "collapsed": true
   },
   "outputs": [],
   "source": [
    "import tensorflow as tf\n",
    "import datetime\n",
    "import numpy as np\n",
    "import matplotlib.pyplot as plt\n",
    "import io\n",
    "import sklearn.metrics\n",
    "import itertools\n",
    "from six.moves import range\n",
    "from tensorflow import keras"
   ]
  },
  {
   "cell_type": "code",
   "execution_count": 2,
   "metadata": {},
   "outputs": [
    {
     "name": "stdout",
     "output_type": "stream",
     "text": [
      "2.0.0-beta1\n"
     ]
    }
   ],
   "source": [
    "print(tf.__version__)"
   ]
  },
  {
   "cell_type": "code",
   "execution_count": 3,
   "metadata": {
    "collapsed": true
   },
   "outputs": [],
   "source": [
    "# Load the fashion-mnist pre-shuffled train data and test data\n",
    "(x_train, y_train), (test_images, test_labels) = tf.keras.datasets.fashion_mnist.load_data()"
   ]
  },
  {
   "cell_type": "code",
   "execution_count": 4,
   "metadata": {
    "collapsed": true
   },
   "outputs": [],
   "source": [
    "# Define the text labels\n",
    "class_names = ['T-shirt/top', 'Trouser', 'Pullover', 'Dress', 'Coat',\n",
    "               'Sandal', 'Shirt', 'Sneaker', 'Bag', 'Ankle boot']"
   ]
  },
  {
   "cell_type": "code",
   "execution_count": 5,
   "metadata": {
    "collapsed": true
   },
   "outputs": [],
   "source": [
    "x_train = x_train / 255.0\n",
    "test_images = test_images / 255.0"
   ]
  },
  {
   "cell_type": "code",
   "execution_count": 6,
   "metadata": {
    "collapsed": true
   },
   "outputs": [],
   "source": [
    "# Further break training data into train / validation sets (# put 5000 into validation set and keep remaining 55,000 for train)\n",
    "(x_train, valid_images) = x_train[5000:], x_train[:5000] \n",
    "(y_train, valid_labels) = y_train[5000:], y_train[:5000]\n",
    "\n",
    "# Reshape input data from (28, 28) to (28, 28, 1)\n",
    "w, h = 28, 28\n",
    "x_train = x_train.reshape(x_train.shape[0], w, h, 1)\n",
    "valid_images = valid_images.reshape(valid_images.shape[0], w, h, 1)\n",
    "test_images = test_images.reshape(test_images.shape[0], w, h, 1)\n",
    "\n",
    "# One-hot encode the labels\n",
    "y_train = tf.keras.utils.to_categorical(y_train, 10)\n",
    "valid_labels = tf.keras.utils.to_categorical(valid_labels, 10)\n",
    "test_labels = tf.keras.utils.to_categorical(test_labels, 10)\n"
   ]
  },
  {
   "cell_type": "code",
   "execution_count": 7,
   "metadata": {
    "collapsed": true
   },
   "outputs": [],
   "source": [
    "from tensorflow.keras import layers,models\n",
    "#开始建立模型啦\n",
    "model = tf.keras.Sequential()\n",
    "\n",
    "model.add(layers.Conv2D(32, kernel_size=(3, 3),\n",
    "                      activation='relu',\n",
    "                      input_shape=[28, 28, 1]))\n",
    "model.add(layers.Conv2D(64, (3, 3), activation='relu'))\n",
    "model.add(layers.MaxPooling2D(pool_size=(3, 3)))\n",
    "\n",
    "model.add(layers.Conv2D(32, (3, 3), activation='relu'))\n",
    "model.add(layers.MaxPooling2D(pool_size=(3, 3)))\n",
    "\n",
    "model.add(layers.Flatten())\n",
    "model.add(layers.Dense(4096, activation='relu'))\n",
    "\n",
    "model.add(layers.Dropout(0.5))\n",
    "model.add(layers.Dense(10, activation='softmax'))\n"
   ]
  },
  {
   "cell_type": "code",
   "execution_count": 8,
   "metadata": {},
   "outputs": [
    {
     "name": "stdout",
     "output_type": "stream",
     "text": [
      "Model: \"sequential\"\n",
      "_________________________________________________________________\n",
      "Layer (type)                 Output Shape              Param #   \n",
      "=================================================================\n",
      "conv2d (Conv2D)              (None, 26, 26, 32)        320       \n",
      "_________________________________________________________________\n",
      "conv2d_1 (Conv2D)            (None, 24, 24, 64)        18496     \n",
      "_________________________________________________________________\n",
      "max_pooling2d (MaxPooling2D) (None, 8, 8, 64)          0         \n",
      "_________________________________________________________________\n",
      "conv2d_2 (Conv2D)            (None, 6, 6, 32)          18464     \n",
      "_________________________________________________________________\n",
      "max_pooling2d_1 (MaxPooling2 (None, 2, 2, 32)          0         \n",
      "_________________________________________________________________\n",
      "flatten (Flatten)            (None, 128)               0         \n",
      "_________________________________________________________________\n",
      "dense (Dense)                (None, 4096)              528384    \n",
      "_________________________________________________________________\n",
      "dropout (Dropout)            (None, 4096)              0         \n",
      "_________________________________________________________________\n",
      "dense_1 (Dense)              (None, 10)                40970     \n",
      "=================================================================\n",
      "Total params: 606,634\n",
      "Trainable params: 606,634\n",
      "Non-trainable params: 0\n",
      "_________________________________________________________________\n"
     ]
    }
   ],
   "source": [
    "model.summary()"
   ]
  },
  {
   "cell_type": "code",
   "execution_count": 9,
   "metadata": {
    "collapsed": true
   },
   "outputs": [],
   "source": [
    "model.compile(loss='categorical_crossentropy',\n",
    "             optimizer='adam',\n",
    "             metrics=['accuracy'])"
   ]
  },
  {
   "cell_type": "code",
   "execution_count": 10,
   "metadata": {
    "collapsed": true
   },
   "outputs": [],
   "source": [
    "#clear any logs from previous runs\n",
    "!rm -rf ./logs"
   ]
  },
  {
   "cell_type": "code",
   "execution_count": 11,
   "metadata": {
    "scrolled": true
   },
   "outputs": [
    {
     "name": "stderr",
     "output_type": "stream",
     "text": [
      "WARNING: Logging before flag parsing goes to stderr.\n",
      "W0713 02:04:04.248782 140476427331328 deprecation.py:323] From /home/zelda/anaconda3/envs/tensor/lib/python3.6/site-packages/tensorflow/python/ops/math_grad.py:1250: add_dispatch_support.<locals>.wrapper (from tensorflow.python.ops.array_ops) is deprecated and will be removed in a future version.\n",
      "Instructions for updating:\n",
      "Use tf.where in 2.0, which has the same broadcast rule as np.where\n"
     ]
    },
    {
     "name": "stdout",
     "output_type": "stream",
     "text": [
      "Train on 55000 samples, validate on 5000 samples\n",
      "Epoch 1/50\n",
      "55000/55000 [==============================] - 233s 4ms/sample - loss: 0.4883 - accuracy: 0.8200 - val_loss: 0.3262 - val_accuracy: 0.8846\n",
      "Epoch 2/50\n",
      "55000/55000 [==============================] - 208s 4ms/sample - loss: 0.3107 - accuracy: 0.8861 - val_loss: 0.2844 - val_accuracy: 0.8962\n",
      "Epoch 3/50\n",
      "55000/55000 [==============================] - 189s 3ms/sample - loss: 0.2663 - accuracy: 0.9025 - val_loss: 0.2665 - val_accuracy: 0.9066\n",
      "Epoch 4/50\n",
      "55000/55000 [==============================] - 182s 3ms/sample - loss: 0.2402 - accuracy: 0.9112 - val_loss: 0.2453 - val_accuracy: 0.9098\n",
      "Epoch 5/50\n",
      "55000/55000 [==============================] - 236s 4ms/sample - loss: 0.2204 - accuracy: 0.9197 - val_loss: 0.2590 - val_accuracy: 0.9072\n",
      "Epoch 6/50\n",
      "55000/55000 [==============================] - 309s 6ms/sample - loss: 0.2048 - accuracy: 0.9247 - val_loss: 0.2315 - val_accuracy: 0.9170\n",
      "Epoch 7/50\n",
      "55000/55000 [==============================] - 250s 5ms/sample - loss: 0.1944 - accuracy: 0.9290 - val_loss: 0.2290 - val_accuracy: 0.9168\n",
      "Epoch 8/50\n",
      "55000/55000 [==============================] - 197s 4ms/sample - loss: 0.1800 - accuracy: 0.9329 - val_loss: 0.2512 - val_accuracy: 0.9120\n",
      "Epoch 9/50\n",
      "55000/55000 [==============================] - 183s 3ms/sample - loss: 0.1711 - accuracy: 0.9368 - val_loss: 0.2581 - val_accuracy: 0.9088\n",
      "Epoch 10/50\n",
      "55000/55000 [==============================] - 183s 3ms/sample - loss: 0.1599 - accuracy: 0.9408 - val_loss: 0.2610 - val_accuracy: 0.9076\n",
      "Epoch 11/50\n",
      "55000/55000 [==============================] - 182s 3ms/sample - loss: 0.1521 - accuracy: 0.9438 - val_loss: 0.2653 - val_accuracy: 0.9116\n",
      "Epoch 12/50\n",
      "55000/55000 [==============================] - 182s 3ms/sample - loss: 0.1461 - accuracy: 0.9449 - val_loss: 0.2486 - val_accuracy: 0.9184\n",
      "Epoch 13/50\n",
      "55000/55000 [==============================] - 182s 3ms/sample - loss: 0.1350 - accuracy: 0.9487 - val_loss: 0.2671 - val_accuracy: 0.9158\n",
      "Epoch 14/50\n",
      "55000/55000 [==============================] - 183s 3ms/sample - loss: 0.1323 - accuracy: 0.9510 - val_loss: 0.2994 - val_accuracy: 0.9122\n",
      "Epoch 15/50\n",
      "55000/55000 [==============================] - 182s 3ms/sample - loss: 0.1262 - accuracy: 0.9524 - val_loss: 0.3064 - val_accuracy: 0.9132\n",
      "Epoch 16/50\n",
      "55000/55000 [==============================] - 182s 3ms/sample - loss: 0.1187 - accuracy: 0.9559 - val_loss: 0.2706 - val_accuracy: 0.9190\n",
      "Epoch 17/50\n",
      "55000/55000 [==============================] - 182s 3ms/sample - loss: 0.1148 - accuracy: 0.9574 - val_loss: 0.3058 - val_accuracy: 0.9188\n",
      "Epoch 18/50\n",
      "55000/55000 [==============================] - 183s 3ms/sample - loss: 0.1095 - accuracy: 0.9593 - val_loss: 0.2766 - val_accuracy: 0.9176\n",
      "Epoch 19/50\n",
      "55000/55000 [==============================] - 184s 3ms/sample - loss: 0.1046 - accuracy: 0.9601 - val_loss: 0.3311 - val_accuracy: 0.9156\n",
      "Epoch 20/50\n",
      "55000/55000 [==============================] - 183s 3ms/sample - loss: 0.1013 - accuracy: 0.9623 - val_loss: 0.3047 - val_accuracy: 0.9190\n",
      "Epoch 21/50\n",
      "55000/55000 [==============================] - 182s 3ms/sample - loss: 0.0997 - accuracy: 0.9632 - val_loss: 0.3115 - val_accuracy: 0.9154\n",
      "Epoch 22/50\n",
      "55000/55000 [==============================] - 187s 3ms/sample - loss: 0.0945 - accuracy: 0.9653 - val_loss: 0.3376 - val_accuracy: 0.9108\n",
      "Epoch 23/50\n",
      "55000/55000 [==============================] - 190s 3ms/sample - loss: 0.0948 - accuracy: 0.9653 - val_loss: 0.3500 - val_accuracy: 0.9182\n",
      "Epoch 24/50\n",
      "55000/55000 [==============================] - 290s 5ms/sample - loss: 0.0908 - accuracy: 0.9667 - val_loss: 0.3638 - val_accuracy: 0.9118\n",
      "Epoch 25/50\n",
      "55000/55000 [==============================] - 395s 7ms/sample - loss: 0.0874 - accuracy: 0.9681 - val_loss: 0.3416 - val_accuracy: 0.9208\n",
      "Epoch 26/50\n",
      "55000/55000 [==============================] - 474s 9ms/sample - loss: 0.0835 - accuracy: 0.9687 - val_loss: 0.4127 - val_accuracy: 0.9110\n",
      "Epoch 27/50\n",
      "55000/55000 [==============================] - 285s 5ms/sample - loss: 0.0820 - accuracy: 0.9704 - val_loss: 0.3785 - val_accuracy: 0.9098\n",
      "Epoch 28/50\n",
      "55000/55000 [==============================] - 189s 3ms/sample - loss: 0.0845 - accuracy: 0.9703 - val_loss: 0.3938 - val_accuracy: 0.9108\n",
      "Epoch 29/50\n",
      "55000/55000 [==============================] - 193s 4ms/sample - loss: 0.0822 - accuracy: 0.9702 - val_loss: 0.3913 - val_accuracy: 0.9196\n",
      "Epoch 30/50\n",
      "55000/55000 [==============================] - 192s 3ms/sample - loss: 0.0776 - accuracy: 0.9723 - val_loss: 0.3886 - val_accuracy: 0.9178\n",
      "Epoch 31/50\n",
      "55000/55000 [==============================] - 191s 3ms/sample - loss: 0.0818 - accuracy: 0.9719 - val_loss: 0.3824 - val_accuracy: 0.9168\n",
      "Epoch 32/50\n",
      "55000/55000 [==============================] - 223s 4ms/sample - loss: 0.0746 - accuracy: 0.9733 - val_loss: 0.3804 - val_accuracy: 0.9134\n",
      "Epoch 33/50\n",
      "55000/55000 [==============================] - 211s 4ms/sample - loss: 0.0760 - accuracy: 0.9731 - val_loss: 0.3890 - val_accuracy: 0.9160\n",
      "Epoch 34/50\n",
      "55000/55000 [==============================] - 218s 4ms/sample - loss: 0.0698 - accuracy: 0.9754 - val_loss: 0.4161 - val_accuracy: 0.9136\n",
      "Epoch 35/50\n",
      "55000/55000 [==============================] - 312s 6ms/sample - loss: 0.0725 - accuracy: 0.9747 - val_loss: 0.4251 - val_accuracy: 0.9152\n",
      "Epoch 36/50\n",
      "55000/55000 [==============================] - 199s 4ms/sample - loss: 0.0725 - accuracy: 0.9749 - val_loss: 0.4178 - val_accuracy: 0.9192\n",
      "Epoch 37/50\n",
      "55000/55000 [==============================] - 263s 5ms/sample - loss: 0.0732 - accuracy: 0.9753 - val_loss: 0.4281 - val_accuracy: 0.9166\n",
      "Epoch 38/50\n",
      "55000/55000 [==============================] - 199s 4ms/sample - loss: 0.0665 - accuracy: 0.9771 - val_loss: 0.4469 - val_accuracy: 0.9130\n",
      "Epoch 39/50\n",
      "55000/55000 [==============================] - 259s 5ms/sample - loss: 0.0727 - accuracy: 0.9757 - val_loss: 0.4530 - val_accuracy: 0.9150\n",
      "Epoch 40/50\n",
      "55000/55000 [==============================] - 211s 4ms/sample - loss: 0.0664 - accuracy: 0.9771 - val_loss: 0.4513 - val_accuracy: 0.9174\n",
      "Epoch 41/50\n",
      "55000/55000 [==============================] - 199s 4ms/sample - loss: 0.0701 - accuracy: 0.9767 - val_loss: 0.4747 - val_accuracy: 0.9152\n",
      "Epoch 42/50\n",
      "55000/55000 [==============================] - 200s 4ms/sample - loss: 0.0685 - accuracy: 0.9767 - val_loss: 0.4406 - val_accuracy: 0.9206\n",
      "Epoch 43/50\n",
      "55000/55000 [==============================] - 200s 4ms/sample - loss: 0.0683 - accuracy: 0.9772 - val_loss: 0.4534 - val_accuracy: 0.9200\n",
      "Epoch 44/50\n",
      "55000/55000 [==============================] - 202s 4ms/sample - loss: 0.0654 - accuracy: 0.9778 - val_loss: 0.5287 - val_accuracy: 0.9038\n",
      "Epoch 45/50\n",
      "55000/55000 [==============================] - 202s 4ms/sample - loss: 0.0634 - accuracy: 0.9789 - val_loss: 0.4602 - val_accuracy: 0.9194\n",
      "Epoch 46/50\n",
      "55000/55000 [==============================] - 205s 4ms/sample - loss: 0.0742 - accuracy: 0.9767 - val_loss: 0.4381 - val_accuracy: 0.9184\n",
      "Epoch 47/50\n",
      "55000/55000 [==============================] - 199s 4ms/sample - loss: 0.0666 - accuracy: 0.9781 - val_loss: 0.4983 - val_accuracy: 0.9148\n",
      "Epoch 48/50\n",
      "55000/55000 [==============================] - 202s 4ms/sample - loss: 0.0684 - accuracy: 0.9780 - val_loss: 0.4836 - val_accuracy: 0.9112\n",
      "Epoch 49/50\n",
      "55000/55000 [==============================] - 207s 4ms/sample - loss: 0.0646 - accuracy: 0.9795 - val_loss: 0.4764 - val_accuracy: 0.9138\n",
      "Epoch 50/50\n",
      "55000/55000 [==============================] - 200s 4ms/sample - loss: 0.0593 - accuracy: 0.9805 - val_loss: 0.4781 - val_accuracy: 0.9120\n"
     ]
    },
    {
     "data": {
      "text/plain": [
       "<tensorflow.python.keras.callbacks.History at 0x7fc2c9626160>"
      ]
     },
     "execution_count": 11,
     "metadata": {},
     "output_type": "execute_result"
    }
   ],
   "source": [
    "log_dir=\"logs/fit/\" + datetime.datetime.now().strftime(\"%Y%m%d-%H%M%S\")\n",
    "tensorboard_callback = tf.keras.callbacks.TensorBoard(log_dir=log_dir,histogram_freq=1)\n",
    "model.fit(x_train,\n",
    "         y_train,\n",
    "         epochs=50,\n",
    "         validation_data=(valid_images, valid_labels),\n",
    "         callbacks=[tensorboard_callback])"
   ]
  },
  {
   "cell_type": "code",
   "execution_count": 13,
   "metadata": {},
   "outputs": [
    {
     "name": "stdout",
     "output_type": "stream",
     "text": [
      "10000/10000 [==============================] - 10s 1ms/sample - loss: 0.5112 - accuracy: 0.9139\n",
      "Test accuracy: 0.9139\n"
     ]
    }
   ],
   "source": [
    "\n",
    "test_loss, test_acc = model.evaluate(test_images, test_labels)\n",
    "\n",
    "print('Test accuracy:', test_acc)"
   ]
  },
  {
   "cell_type": "code",
   "execution_count": null,
   "metadata": {
    "collapsed": true
   },
   "outputs": [],
   "source": []
  }
 ],
 "metadata": {
  "kernelspec": {
   "display_name": "Python 3",
   "language": "python",
   "name": "python3"
  },
  "language_info": {
   "codemirror_mode": {
    "name": "ipython",
    "version": 3
   },
   "file_extension": ".py",
   "mimetype": "text/x-python",
   "name": "python",
   "nbconvert_exporter": "python",
   "pygments_lexer": "ipython3",
   "version": "3.6.2"
  }
 },
 "nbformat": 4,
 "nbformat_minor": 2
}

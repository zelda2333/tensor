{
 "cells": [
  {
   "cell_type": "code",
   "execution_count": 1,
   "metadata": {},
   "outputs": [],
   "source": [
    "import tensorflow as tf"
   ]
  },
  {
   "cell_type": "code",
   "execution_count": 20,
   "metadata": {},
   "outputs": [
    {
     "name": "stdout",
     "output_type": "stream",
     "text": [
      "Tensor(\"Add_13:0\", shape=(), dtype=float32)\n",
      "[5.0, 25.0]\n"
     ]
    }
   ],
   "source": [
    "# Fetch\n",
    "#可以直接传入一些tensor来传回运行结果，在下面的例程中，input2和input3作为张量输入得到add_1\n",
    "in1 = tf.constant(3.0)\n",
    "in2 = tf.constant(2.0)\n",
    "in3 = tf.constant(5.0)\n",
    "\n",
    "add = tf.add(in1, in2)\n",
    "mul = tf.multiply(in3, add)\n",
    "\n",
    "print(add)\n",
    "with tf.Session() as sess:\n",
    "    result = sess.run([add, mul])\n",
    "    print (result)"
   ]
  },
  {
   "cell_type": "code",
   "execution_count": 23,
   "metadata": {},
   "outputs": [
    {
     "name": "stdout",
     "output_type": "stream",
     "text": [
      "[14.]\n"
     ]
    }
   ],
   "source": [
    "#Feed \n",
    "#创建占位符\n",
    "in1 = tf.placeholder(tf.float32)\n",
    "in2 = tf.placeholder(tf.float32)\n",
    "output = tf.multiply(in1,in2)\n",
    "\n",
    "with tf.Session() as sess:\n",
    "    #feed的数据以字典的形式传入\n",
    "    result = sess.run(output,feed_dict = {in1:[7.],in2:[2.]})\n",
    "    print (result)"
   ]
  }
 ],
 "metadata": {
  "kernelspec": {
   "display_name": "Python 3",
   "language": "python",
   "name": "python3"
  },
  "language_info": {
   "codemirror_mode": {
    "name": "ipython",
    "version": 3
   },
   "file_extension": ".py",
   "mimetype": "text/x-python",
   "name": "python",
   "nbconvert_exporter": "python",
   "pygments_lexer": "ipython3",
   "version": "3.7.3"
  }
 },
 "nbformat": 4,
 "nbformat_minor": 2
}

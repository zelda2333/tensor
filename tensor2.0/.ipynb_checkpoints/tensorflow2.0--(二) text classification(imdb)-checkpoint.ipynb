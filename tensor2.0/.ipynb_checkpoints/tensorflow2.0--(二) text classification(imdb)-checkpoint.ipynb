{
 "cells": [
  {
   "cell_type": "code",
   "execution_count": 1,
   "metadata": {
    "collapsed": true
   },
   "outputs": [],
   "source": [
    "import tensorflow as tf\n",
    "from tensorflow import keras\n",
    "\n",
    "import numpy as np"
   ]
  },
  {
   "cell_type": "markdown",
   "metadata": {},
   "source": [
    "imdb = keras.datasets.imdb\n",
    "#参数 num_words=10000 会保留训练数据中出现频次在前 10000 位的字词。\n",
    "(train_data, train_labels), (test_data, test_labels) = imdb.load_data(num_words=10000)"
   ]
  },
  {
   "cell_type": "code",
   "execution_count": 2,
   "metadata": {
    "collapsed": true
   },
   "outputs": [],
   "source": [
    "imdb = keras.datasets.imdb\n",
    "\n",
    "(train_data, train_labels), (test_data, test_labels) = imdb.load_data(num_words=10000)\n"
   ]
  },
  {
   "cell_type": "markdown",
   "metadata": {},
   "source": [
    "## 探索数据\n",
    "\n",
    "该数据集已经过预处理：每个样本都是一个整数数组，表示影评中的字词。\n",
    "\n",
    "每个标签都是整数值 0 或 1，其中 0 表示负面影评，1 表示正面影评。"
   ]
  },
  {
   "cell_type": "code",
   "execution_count": 3,
   "metadata": {},
   "outputs": [
    {
     "name": "stdout",
     "output_type": "stream",
     "text": [
      "Training entries: 25000, labels: 25000\n"
     ]
    }
   ],
   "source": [
    "print(\"Training entries: {}, labels: {}\".format(len(train_data), len(train_labels)))"
   ]
  },
  {
   "cell_type": "markdown",
   "metadata": {},
   "source": [
    "影评文本已转换为整数，其中每个整数都表示字典中的一个特定字词。第一条影评如下所示："
   ]
  },
  {
   "cell_type": "code",
   "execution_count": 4,
   "metadata": {},
   "outputs": [
    {
     "name": "stdout",
     "output_type": "stream",
     "text": [
      "[1, 14, 22, 16, 43, 530, 973, 1622, 1385, 65, 458, 4468, 66, 3941, 4, 173, 36, 256, 5, 25, 100, 43, 838, 112, 50, 670, 2, 9, 35, 480, 284, 5, 150, 4, 172, 112, 167, 2, 336, 385, 39, 4, 172, 4536, 1111, 17, 546, 38, 13, 447, 4, 192, 50, 16, 6, 147, 2025, 19, 14, 22, 4, 1920, 4613, 469, 4, 22, 71, 87, 12, 16, 43, 530, 38, 76, 15, 13, 1247, 4, 22, 17, 515, 17, 12, 16, 626, 18, 2, 5, 62, 386, 12, 8, 316, 8, 106, 5, 4, 2223, 5244, 16, 480, 66, 3785, 33, 4, 130, 12, 16, 38, 619, 5, 25, 124, 51, 36, 135, 48, 25, 1415, 33, 6, 22, 12, 215, 28, 77, 52, 5, 14, 407, 16, 82, 2, 8, 4, 107, 117, 5952, 15, 256, 4, 2, 7, 3766, 5, 723, 36, 71, 43, 530, 476, 26, 400, 317, 46, 7, 4, 2, 1029, 13, 104, 88, 4, 381, 15, 297, 98, 32, 2071, 56, 26, 141, 6, 194, 7486, 18, 4, 226, 22, 21, 134, 476, 26, 480, 5, 144, 30, 5535, 18, 51, 36, 28, 224, 92, 25, 104, 4, 226, 65, 16, 38, 1334, 88, 12, 16, 283, 5, 16, 4472, 113, 103, 32, 15, 16, 5345, 19, 178, 32]\n"
     ]
    }
   ],
   "source": [
    "print(train_data[0])"
   ]
  },
  {
   "cell_type": "code",
   "execution_count": 5,
   "metadata": {},
   "outputs": [
    {
     "data": {
      "text/plain": [
       "(218, 189)"
      ]
     },
     "execution_count": 5,
     "metadata": {},
     "output_type": "execute_result"
    }
   ],
   "source": [
    "#影评的长度可能会有所不同。神经网络的输入必须具有相同长度\n",
    "len(train_data[0]),len(train_data[1])"
   ]
  },
  {
   "attachments": {
    "with_KV.png": {
     "image/png": "[encoded data removed]"
    }
   },
   "cell_type": "markdown",
   "metadata": {},
   "source": [
    "## 将整数转换回字词\n",
    "\n",
    "![with_KV.png](attachment:with_KV.png)"
   ]
  },
  {
   "cell_type": "code",
   "execution_count": 6,
   "metadata": {
    "collapsed": true
   },
   "outputs": [],
   "source": [
    "# A dictionary mapping words to an integer index\n",
    "word_index = imdb.get_word_index()\n",
    "\n",
    "# The first indices are reserved\n",
    "word_index = {k:(v+3) for k,v in word_index.items()}\n",
    "word_index[\"<PAD>\"] = 0\n",
    "word_index[\"<START>\"] = 1\n",
    "word_index[\"<UNK>\"] = 2  # unknown\n",
    "word_index[\"<UNUSED>\"] = 3\n",
    "\n",
    "reverse_word_index = dict([(value, key) for (key, value) in word_index.items()])\n",
    "\n",
    "def decode_review(text):\n",
    "    return ' '.join([reverse_word_index.get(i, '?') for i in text])"
   ]
  },
  {
   "attachments": {
    "join.png": {
     "image/png": "[encoded data removed]"
    }
   },
   "cell_type": "markdown",
   "metadata": {},
   "source": [
    "**dict.get(key, default=None)**\n",
    "\n",
    "* key -- 字典中要查找的键。\n",
    "\n",
    "* default -- 如果指定键的值不存在时，返回该默认值值。\n",
    "\n",
    "返回指定键的值，如果值不在字典中返回默认值None。\n",
    "\n",
    "**join()**\n",
    "\n",
    "![join.png](attachment:join.png)"
   ]
  },
  {
   "cell_type": "code",
   "execution_count": 7,
   "metadata": {},
   "outputs": [
    {
     "data": {
      "text/plain": [
       "\"<START> this film was just brilliant casting location scenery story direction everyone's really suited the part they played and you could just imagine being there robert <UNK> is an amazing actor and now the same being director <UNK> father came from the same scottish island as myself so i loved the fact there was a real connection with this film the witty remarks throughout the film were great it was just brilliant so much that i bought the film as soon as it was released for <UNK> and would recommend it to everyone to watch and the fly fishing was amazing really cried at the end it was so sad and you know what they say if you cry at a film it must have been good and this definitely was also <UNK> to the two little boy's that played the <UNK> of norman and paul they were just brilliant children are often left out of the <UNK> list i think because the stars that play them all grown up are such a big profile for the whole film but these children are amazing and should be praised for what they have done don't you think the whole story was so lovely because it was true and was someone's life after all that was shared with us all\""
      ]
     },
     "execution_count": 7,
     "metadata": {},
     "output_type": "execute_result"
    }
   ],
   "source": [
    "decode_review(train_data[0])"
   ]
  },
  {
   "cell_type": "code",
   "execution_count": 8,
   "metadata": {
    "collapsed": true
   },
   "outputs": [],
   "source": [
    "train_data = keras.preprocessing.sequence.pad_sequences(train_data,\n",
    "                                                        value=word_index[\"<PAD>\"],\n",
    "                                                        padding='post',\n",
    "                                                        maxlen=256)\n",
    "\n",
    "test_data = keras.preprocessing.sequence.pad_sequences(test_data,\n",
    "                                                       value=word_index[\"<PAD>\"],\n",
    "                                                       padding='post',\n",
    "                                                       maxlen=256)"
   ]
  },
  {
   "cell_type": "markdown",
   "metadata": {},
   "source": [
    "**pad_sequences**\n",
    "\n",
    "keras.preprocessing.sequence.pad_sequences(sequences, maxlen=None, dtype=’int32’, padding=’pre’, truncating=’pre’, value=0.) \n",
    "\n",
    "参数 \n",
    "sequences：浮点数或整数构成的两层嵌套列表\n",
    "\n",
    "maxlen：None或整数，为序列的最大长度。大于此长度的序列将被截短，小于此长度的序列将在后部填0.\n",
    "\n",
    "dtype：返回的numpy array的数据类型\n",
    "\n",
    "padding：‘pre’或‘post’，确定当需要补0时，在序列的起始还是结尾补\n",
    "\n",
    "truncating：‘pre’或‘post’，确定当需要截断序列时，从起始还是结尾截断\n",
    "\n",
    "value：浮点数，此值将在填充时代替默认的填充值0"
   ]
  },
  {
   "cell_type": "code",
   "execution_count": 9,
   "metadata": {},
   "outputs": [
    {
     "name": "stdout",
     "output_type": "stream",
     "text": [
      "[   1   14   22   16   43  530  973 1622 1385   65  458 4468   66 3941\n",
      "    4  173   36  256    5   25  100   43  838  112   50  670    2    9\n",
      "   35  480  284    5  150    4  172  112  167    2  336  385   39    4\n",
      "  172 4536 1111   17  546   38   13  447    4  192   50   16    6  147\n",
      " 2025   19   14   22    4 1920 4613  469    4   22   71   87   12   16\n",
      "   43  530   38   76   15   13 1247    4   22   17  515   17   12   16\n",
      "  626   18    2    5   62  386   12    8  316    8  106    5    4 2223\n",
      " 5244   16  480   66 3785   33    4  130   12   16   38  619    5   25\n",
      "  124   51   36  135   48   25 1415   33    6   22   12  215   28   77\n",
      "   52    5   14  407   16   82    2    8    4  107  117 5952   15  256\n",
      "    4    2    7 3766    5  723   36   71   43  530  476   26  400  317\n",
      "   46    7    4    2 1029   13  104   88    4  381   15  297   98   32\n",
      " 2071   56   26  141    6  194 7486   18    4  226   22   21  134  476\n",
      "   26  480    5  144   30 5535   18   51   36   28  224   92   25  104\n",
      "    4  226   65   16   38 1334   88   12   16  283    5   16 4472  113\n",
      "  103   32   15   16 5345   19  178   32    0    0    0    0    0    0\n",
      "    0    0    0    0    0    0    0    0    0    0    0    0    0    0\n",
      "    0    0    0    0    0    0    0    0    0    0    0    0    0    0\n",
      "    0    0    0    0]\n"
     ]
    }
   ],
   "source": [
    "#检查（现已填充的）第一条影评：\n",
    "print(train_data[0])"
   ]
  },
  {
   "cell_type": "markdown",
   "metadata": {},
   "source": [
    "## 构建模型\n",
    "神经网络通过堆叠层创建而成，这需要做出两个架构方面的主要决策：\n",
    "\n",
    "* 要在模型中使用多少个层？\n",
    "* 要针对每个层使用多少个隐藏单元？"
   ]
  },
  {
   "cell_type": "code",
   "execution_count": 10,
   "metadata": {},
   "outputs": [
    {
     "name": "stdout",
     "output_type": "stream",
     "text": [
      "Model: \"sequential\"\n",
      "_________________________________________________________________\n",
      "Layer (type)                 Output Shape              Param #   \n",
      "=================================================================\n",
      "embedding (Embedding)        (None, None, 16)          160000    \n",
      "_________________________________________________________________\n",
      "global_average_pooling1d (Gl (None, 16)                0         \n",
      "_________________________________________________________________\n",
      "dense (Dense)                (None, 16)                272       \n",
      "_________________________________________________________________\n",
      "dense_1 (Dense)              (None, 1)                 17        \n",
      "=================================================================\n",
      "Total params: 160,289\n",
      "Trainable params: 160,289\n",
      "Non-trainable params: 0\n",
      "_________________________________________________________________\n"
     ]
    }
   ],
   "source": [
    "# input shape is the vocabulary count used for the movie reviews (10,000 words)\n",
    "vocab_size = 10000\n",
    "\n",
    "model = keras.Sequential()\n",
    "model.add(keras.layers.Embedding(vocab_size, 16))\n",
    "model.add(keras.layers.GlobalAveragePooling1D())\n",
    "model.add(keras.layers.Dense(16, activation=tf.nn.relu))\n",
    "model.add(keras.layers.Dense(1, activation=tf.nn.sigmoid))\n",
    "\n",
    "model.summary()"
   ]
  },
  {
   "cell_type": "markdown",
   "metadata": {},
   "source": [
    "按顺序堆叠各个层以构建分类器：\n",
    "\n",
    "1. 第一层是 Embedding 层。该层会在整数编码的词汇表中查找每个字词-索引的嵌入向量。模型在接受训练时会学习这些向量。这些向量会向输出数组添加一个维度。生成的维度为：(batch, sequence, embedding)。\n",
    "\n",
    "2. 接下来，一个 GlobalAveragePooling1D 层通过对序列维度求平均值，针对每个样本返回一个长度固定的输出向量。这样，模型便能够以尽可能简单的方式处理各种长度的输入。\n",
    "\n",
    "3. 该长度固定的输出向量会传入一个全连接 (Dense) 层（包含 16 个隐藏单元）。\n",
    "\n",
    "4. 最后一层与单个输出节点密集连接。应用 sigmoid 激活函数后，结果是介于 0 到 1 之间的浮点值，表示概率或置信水平。"
   ]
  },
  {
   "cell_type": "markdown",
   "metadata": {},
   "source": [
    "## 损失函数和优化器\n",
    "\n",
    "由于这是一个二元分类问题且模型会输出一个概率（应用 S 型激活函数的单个单元层），\n",
    "\n",
    "因此我们将使用 binary_crossentropy 损失函数。\n",
    "\n",
    "该函数并不是唯一的损失函数，例如，您可以选择 mean_squared_error。\n",
    "\n",
    "但一般来说，binary_crossentropy 更适合处理概率问题，它可测量概率分布之间的“差距”，在本例中则为实际分布和预测之间的“差距”。"
   ]
  },
  {
   "cell_type": "code",
   "execution_count": 11,
   "metadata": {
    "collapsed": true
   },
   "outputs": [],
   "source": [
    "model.compile(optimizer=tf.optimizers.Adam(),\n",
    "              loss='binary_crossentropy',\n",
    "              metrics=['accuracy'])"
   ]
  },
  {
   "cell_type": "markdown",
   "metadata": {},
   "source": [
    "## 创建验证集\n",
    "\n",
    "在训练时，我们需要检查模型处理从未见过的数据的准确率。\n",
    "\n",
    "我们从原始训练数据中分离出 10000 个样本，创建一个验证集。\n",
    "\n",
    "（为什么现在不使用测试集？我们的目标是仅使用训练数据开发和调整模型，然后仅使用一次测试数据评估准确率。）"
   ]
  },
  {
   "cell_type": "code",
   "execution_count": 12,
   "metadata": {
    "collapsed": true
   },
   "outputs": [],
   "source": [
    "x_val = train_data[:10000]\n",
    "partial_x_train = train_data[10000:]\n",
    "\n",
    "y_val = train_labels[:10000]\n",
    "partial_y_train = train_labels[10000:]"
   ]
  },
  {
   "cell_type": "markdown",
   "metadata": {},
   "source": [
    "## 训练模型\n",
    "\n",
    "用有 512 个样本的小批次训练模型 40 个周期。\n",
    "\n",
    "这将对 x_train 和 y_train 张量中的所有样本进行 40 次迭代。\n",
    "\n",
    "在训练期间，监控模型在验证集的 10000 个样本上的损失和准确率："
   ]
  },
  {
   "cell_type": "markdown",
   "metadata": {},
   "source": [
    "tf.keras.Model.fit 采用三个重要参数：\n",
    "\n",
    "1. **epochs：**以周期为单位进行训练。一个周期是对整个输入数据的一次迭代（以较小的批次完成迭代）。\n",
    "\n",
    "2. **batch_size：**当传递 NumPy 数据时，模型将数据分成较小的批次，并在训练期间迭代这些批次。此整数指定每个批次的大小。请注意，如果样本总数不能被批次大小整除，则最后一个批次可能更小。\n",
    "\n",
    "3. **validation_data：**在对模型进行原型设计时，您需要轻松监控该模型在某些验证数据上达到的效果。传递此参数（输入和标签元组）可以让该模型在每个周期结束时以推理模式显示所传递数据的损失和指标。"
   ]
  },
  {
   "cell_type": "code",
   "execution_count": 13,
   "metadata": {},
   "outputs": [
    {
     "name": "stdout",
     "output_type": "stream",
     "text": [
      "Train on 15000 samples, validate on 10000 samples\n",
      "Epoch 1/40\n",
      "15000/15000 [==============================] - 3s 201us/sample - loss: 0.6922 - accuracy: 0.5098 - val_loss: 0.6910 - val_accuracy: 0.4973\n",
      "Epoch 2/40\n",
      "15000/15000 [==============================] - 2s 124us/sample - loss: 0.6879 - accuracy: 0.5724 - val_loss: 0.6847 - val_accuracy: 0.5950\n",
      "Epoch 3/40\n",
      "15000/15000 [==============================] - 2s 120us/sample - loss: 0.6770 - accuracy: 0.6673 - val_loss: 0.6705 - val_accuracy: 0.6896\n",
      "Epoch 4/40\n",
      "15000/15000 [==============================] - 2s 137us/sample - loss: 0.6564 - accuracy: 0.7044 - val_loss: 0.6467 - val_accuracy: 0.7348\n",
      "Epoch 5/40\n",
      "15000/15000 [==============================] - 2s 118us/sample - loss: 0.6254 - accuracy: 0.7588 - val_loss: 0.6146 - val_accuracy: 0.7625\n",
      "Epoch 6/40\n",
      "15000/15000 [==============================] - 2s 120us/sample - loss: 0.5858 - accuracy: 0.8003 - val_loss: 0.5766 - val_accuracy: 0.7824\n",
      "Epoch 7/40\n",
      "15000/15000 [==============================] - 2s 131us/sample - loss: 0.5413 - accuracy: 0.8223 - val_loss: 0.5341 - val_accuracy: 0.8192\n",
      "Epoch 8/40\n",
      "15000/15000 [==============================] - 2s 131us/sample - loss: 0.4958 - accuracy: 0.8459 - val_loss: 0.4942 - val_accuracy: 0.8324\n",
      "Epoch 9/40\n",
      "15000/15000 [==============================] - 2s 133us/sample - loss: 0.4526 - accuracy: 0.8621 - val_loss: 0.4573 - val_accuracy: 0.8445\n",
      "Epoch 10/40\n",
      "15000/15000 [==============================] - 2s 140us/sample - loss: 0.4132 - accuracy: 0.8749 - val_loss: 0.4258 - val_accuracy: 0.8515\n",
      "Epoch 11/40\n",
      "15000/15000 [==============================] - 3s 168us/sample - loss: 0.3787 - accuracy: 0.8834 - val_loss: 0.3988 - val_accuracy: 0.8592\n",
      "Epoch 12/40\n",
      "15000/15000 [==============================] - 2s 134us/sample - loss: 0.3491 - accuracy: 0.8919 - val_loss: 0.3775 - val_accuracy: 0.8634\n",
      "Epoch 13/40\n",
      "15000/15000 [==============================] - 3s 221us/sample - loss: 0.3242 - accuracy: 0.8979 - val_loss: 0.3588 - val_accuracy: 0.8699\n",
      "Epoch 14/40\n",
      "15000/15000 [==============================] - 3s 227us/sample - loss: 0.3020 - accuracy: 0.9021 - val_loss: 0.3446 - val_accuracy: 0.8730\n",
      "Epoch 15/40\n",
      "15000/15000 [==============================] - 4s 242us/sample - loss: 0.2834 - accuracy: 0.9069 - val_loss: 0.3324 - val_accuracy: 0.8751\n",
      "Epoch 16/40\n",
      "15000/15000 [==============================] - 4s 266us/sample - loss: 0.2669 - accuracy: 0.9124 - val_loss: 0.3230 - val_accuracy: 0.8760\n",
      "Epoch 17/40\n",
      "15000/15000 [==============================] - 3s 179us/sample - loss: 0.2516 - accuracy: 0.9173 - val_loss: 0.3149 - val_accuracy: 0.8796\n",
      "Epoch 18/40\n",
      "15000/15000 [==============================] - 2s 125us/sample - loss: 0.2383 - accuracy: 0.9219 - val_loss: 0.3080 - val_accuracy: 0.8811\n",
      "Epoch 19/40\n",
      "15000/15000 [==============================] - 1s 98us/sample - loss: 0.2264 - accuracy: 0.9235 - val_loss: 0.3025 - val_accuracy: 0.8811\n",
      "Epoch 20/40\n",
      "15000/15000 [==============================] - 2s 106us/sample - loss: 0.2157 - accuracy: 0.9277 - val_loss: 0.2986 - val_accuracy: 0.8825\n",
      "Epoch 21/40\n",
      "15000/15000 [==============================] - 2s 166us/sample - loss: 0.2047 - accuracy: 0.9333 - val_loss: 0.2952 - val_accuracy: 0.8825\n",
      "Epoch 22/40\n",
      "15000/15000 [==============================] - 1s 99us/sample - loss: 0.1956 - accuracy: 0.9357 - val_loss: 0.2918 - val_accuracy: 0.8837\n",
      "Epoch 23/40\n",
      "15000/15000 [==============================] - 1s 80us/sample - loss: 0.1866 - accuracy: 0.9401 - val_loss: 0.2905 - val_accuracy: 0.8837\n",
      "Epoch 24/40\n",
      "15000/15000 [==============================] - 1s 80us/sample - loss: 0.1787 - accuracy: 0.9439 - val_loss: 0.2895 - val_accuracy: 0.8845\n",
      "Epoch 25/40\n",
      "15000/15000 [==============================] - 1s 82us/sample - loss: 0.1707 - accuracy: 0.9467 - val_loss: 0.2871 - val_accuracy: 0.8857\n",
      "Epoch 26/40\n",
      "15000/15000 [==============================] - 1s 80us/sample - loss: 0.1636 - accuracy: 0.9492 - val_loss: 0.2879 - val_accuracy: 0.8839\n",
      "Epoch 27/40\n",
      "15000/15000 [==============================] - 1s 83us/sample - loss: 0.1569 - accuracy: 0.9518 - val_loss: 0.2869 - val_accuracy: 0.8857\n",
      "Epoch 28/40\n",
      "15000/15000 [==============================] - 1s 79us/sample - loss: 0.1504 - accuracy: 0.9547 - val_loss: 0.2880 - val_accuracy: 0.8851\n",
      "Epoch 29/40\n",
      "15000/15000 [==============================] - 1s 80us/sample - loss: 0.1448 - accuracy: 0.9575 - val_loss: 0.2882 - val_accuracy: 0.8840\n",
      "Epoch 30/40\n",
      "15000/15000 [==============================] - 1s 79us/sample - loss: 0.1388 - accuracy: 0.9594 - val_loss: 0.2883 - val_accuracy: 0.8861\n",
      "Epoch 31/40\n",
      "15000/15000 [==============================] - 1s 79us/sample - loss: 0.1330 - accuracy: 0.9619 - val_loss: 0.2890 - val_accuracy: 0.8868\n",
      "Epoch 32/40\n",
      "15000/15000 [==============================] - 1s 80us/sample - loss: 0.1278 - accuracy: 0.9645 - val_loss: 0.2905 - val_accuracy: 0.8853\n",
      "Epoch 33/40\n",
      "15000/15000 [==============================] - 1s 81us/sample - loss: 0.1227 - accuracy: 0.9661 - val_loss: 0.2927 - val_accuracy: 0.8862\n",
      "Epoch 34/40\n",
      "15000/15000 [==============================] - 1s 80us/sample - loss: 0.1181 - accuracy: 0.9675 - val_loss: 0.2952 - val_accuracy: 0.8851\n",
      "Epoch 35/40\n",
      "15000/15000 [==============================] - 1s 79us/sample - loss: 0.1138 - accuracy: 0.9683 - val_loss: 0.2967 - val_accuracy: 0.8855\n",
      "Epoch 36/40\n",
      "15000/15000 [==============================] - 1s 80us/sample - loss: 0.1094 - accuracy: 0.9705 - val_loss: 0.2985 - val_accuracy: 0.8851\n",
      "Epoch 37/40\n",
      "15000/15000 [==============================] - 1s 79us/sample - loss: 0.1050 - accuracy: 0.9723 - val_loss: 0.3014 - val_accuracy: 0.8841\n",
      "Epoch 38/40\n",
      "15000/15000 [==============================] - 1s 79us/sample - loss: 0.1010 - accuracy: 0.9737 - val_loss: 0.3048 - val_accuracy: 0.8828\n",
      "Epoch 39/40\n",
      "15000/15000 [==============================] - 1s 79us/sample - loss: 0.0980 - accuracy: 0.9743 - val_loss: 0.3087 - val_accuracy: 0.8837\n",
      "Epoch 40/40\n",
      "15000/15000 [==============================] - 1s 79us/sample - loss: 0.0938 - accuracy: 0.9768 - val_loss: 0.3118 - val_accuracy: 0.8827\n"
     ]
    }
   ],
   "source": [
    "history = model.fit(partial_x_train,\n",
    "                    partial_y_train,\n",
    "                    epochs=40,\n",
    "                    batch_size=512,\n",
    "                    validation_data=(x_val, y_val),\n",
    "                    verbose=1)"
   ]
  },
  {
   "cell_type": "markdown",
   "metadata": {},
   "source": [
    "## 评估模型"
   ]
  },
  {
   "cell_type": "code",
   "execution_count": 14,
   "metadata": {},
   "outputs": [
    {
     "name": "stdout",
     "output_type": "stream",
     "text": [
      "25000/25000 [==============================] - 3s 110us/sample - loss: 0.3323 - accuracy: 0.8708\n",
      "[0.33228434905052184, 0.8708]\n"
     ]
    }
   ],
   "source": [
    "results = model.evaluate(test_data, test_labels)\n",
    "\n",
    "print(results)"
   ]
  },
  {
   "cell_type": "markdown",
   "metadata": {},
   "source": [
    "## 创建准确率和损失随时间变化的图\n",
    "\n",
    "model.fit() 返回一个 History 对象，该对象包含一个字典，其中包括训练期间发生的所有情况："
   ]
  },
  {
   "cell_type": "code",
   "execution_count": 15,
   "metadata": {},
   "outputs": [
    {
     "data": {
      "text/plain": [
       "dict_keys(['loss', 'accuracy', 'val_loss', 'val_accuracy'])"
      ]
     },
     "execution_count": 15,
     "metadata": {},
     "output_type": "execute_result"
    }
   ],
   "source": [
    "history_dict = history.history\n",
    "history_dict.keys()"
   ]
  },
  {
   "cell_type": "code",
   "execution_count": 16,
   "metadata": {},
   "outputs": [
    {
     "data": {
      "image/png": "[encoded data removed]",
      "text/plain": [
       "<matplotlib.figure.Figure at 0x7f1dd8289240>"
      ]
     },
     "metadata": {},
     "output_type": "display_data"
    }
   ],
   "source": [
    "import matplotlib.pyplot as plt\n",
    "\n",
    "accuracy = history.history['accuracy']\n",
    "val_acc = history.history['val_accuracy']\n",
    "loss = history.history['loss']\n",
    "val_loss = history.history['val_loss']\n",
    "\n",
    "epochs = range(1, len(accuracy) + 1)\n",
    "\n",
    "# \"bo\" is for \"blue dot\"\n",
    "plt.plot(epochs, loss, 'bo', label='Training loss')\n",
    "# b is for \"solid blue line\"\n",
    "plt.plot(epochs, val_loss, 'b', label='Validation loss')\n",
    "plt.title('Training and validation loss')\n",
    "plt.xlabel('Epochs')\n",
    "plt.ylabel('Loss')\n",
    "plt.legend()#显示图例\n",
    "\n",
    "plt.show()"
   ]
  },
  {
   "cell_type": "code",
   "execution_count": 17,
   "metadata": {},
   "outputs": [
    {
     "data": {
      "image/png": "[encoded data removed]",
      "text/plain": [
       "<matplotlib.figure.Figure at 0x7f1dda976780>"
      ]
     },
     "metadata": {},
     "output_type": "display_data"
    }
   ],
   "source": [
    "plt.clf()   # clear figure\n",
    "acc_values = history_dict['accuracy']\n",
    "val_acc_values = history_dict['val_accuracy']\n",
    "\n",
    "plt.plot(epochs, accuracy, 'bo', label='Training acc')\n",
    "plt.plot(epochs, val_acc, 'b', label='Validation acc')\n",
    "plt.title('Training and validation accuracy')\n",
    "plt.xlabel('Epochs')\n",
    "plt.ylabel('Accuracy')\n",
    "plt.legend()\n",
    "\n",
    "plt.show()"
   ]
  },
  {
   "cell_type": "code",
   "execution_count": null,
   "metadata": {
    "collapsed": true
   },
   "outputs": [],
   "source": []
  }
 ],
 "metadata": {
  "kernelspec": {
   "display_name": "Python 3",
   "language": "python",
   "name": "python3"
  },
  "language_info": {
   "codemirror_mode": {
    "name": "ipython",
    "version": 3
   },
   "file_extension": ".py",
   "mimetype": "text/x-python",
   "name": "python",
   "nbconvert_exporter": "python",
   "pygments_lexer": "ipython3",
   "version": "3.6.2"
  }
 },
 "nbformat": 4,
 "nbformat_minor": 2
}

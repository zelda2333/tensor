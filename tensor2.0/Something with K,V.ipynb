{
 "cells": [
  {
   "cell_type": "code",
   "execution_count": 7,
   "metadata": {
    "scrolled": true
   },
   "outputs": [
    {
     "name": "stdout",
     "output_type": "stream",
     "text": [
      "{'a': 3, 'b': 4, 'c': 5, 'd': 6}\n"
     ]
    }
   ],
   "source": [
    "a={'a': 0, 'b': 1, 'c': 2, 'd':3}\n",
    "t=a.keys() # t = a,b,c,d\n",
    "b='a'\n",
    "print ({k:(v+3) for k,v in a.items() }) #输出1"
   ]
  },
  {
   "cell_type": "code",
   "execution_count": 4,
   "metadata": {},
   "outputs": [
    {
     "name": "stdout",
     "output_type": "stream",
     "text": [
      "{'a': '0', 'b': '1', 'c': '2', 'd': '3'}\n"
     ]
    }
   ],
   "source": [
    "temp={}\n",
    "for k,v in a.items():\n",
    "    if b in t:\n",
    "        temp[k]=v\n",
    "print (temp) #输出2"
   ]
  },
  {
   "cell_type": "code",
   "execution_count": 12,
   "metadata": {},
   "outputs": [
    {
     "name": "stdout",
     "output_type": "stream",
     "text": [
      "a-b-c\n"
     ]
    }
   ],
   "source": [
    "str = \"-\";\n",
    "seq = (\"a\", \"b\", \"c\"); # 字符串序列\n",
    "print (str.join( seq ))"
   ]
  },
  {
   "cell_type": "code",
   "execution_count": null,
   "metadata": {
    "collapsed": true
   },
   "outputs": [],
   "source": []
  }
 ],
 "metadata": {
  "kernelspec": {
   "display_name": "Python 3",
   "language": "python",
   "name": "python3"
  },
  "language_info": {
   "codemirror_mode": {
    "name": "ipython",
    "version": 3
   },
   "file_extension": ".py",
   "mimetype": "text/x-python",
   "name": "python",
   "nbconvert_exporter": "python",
   "pygments_lexer": "ipython3",
   "version": "3.6.2"
  }
 },
 "nbformat": 4,
 "nbformat_minor": 2
}

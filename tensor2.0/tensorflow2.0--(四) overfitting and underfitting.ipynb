{
 "cells": [
  {
   "cell_type": "markdown",
   "metadata": {},
   "source": [
    "## 探索过拟合和欠拟合\n",
    "\n",
    "探索两种常见的正则化技术（权重正则化和丢弃），并使用它们改进我们的 IMDB 影评分类"
   ]
  },
  {
   "cell_type": "code",
   "execution_count": 5,
   "metadata": {
    "collapsed": true
   },
   "outputs": [],
   "source": [
    "import tensorflow as tf\n",
    "from tensorflow import keras\n",
    "\n",
    "import numpy as np\n",
    "import matplotlib.pyplot as plt"
   ]
  },
  {
   "cell_type": "code",
   "execution_count": 6,
   "metadata": {
    "collapsed": true
   },
   "outputs": [],
   "source": [
    "NUM_WORDS = 10000\n",
    "\n",
    "(train_data, train_labels), (test_data, test_labels) = keras.datasets.imdb.load_data(num_words=NUM_WORDS)\n"
   ]
  },
  {
   "cell_type": "code",
   "execution_count": 7,
   "metadata": {
    "collapsed": true
   },
   "outputs": [],
   "source": [
    "def multi_hot_sequences(sequences, dimension):\n",
    "    # Create an all-zero matrix of shape (len(sequences), dimension)\n",
    "    results = np.zeros((len(sequences), dimension))\n",
    "    for i, word_indices in enumerate(sequences):\n",
    "        results[i, word_indices] = 1.0  # set specific indices of results[i] to 1s\n",
    "    return results\n",
    "\n",
    "train_data = multi_hot_sequences(train_data, dimension=NUM_WORDS)\n",
    "test_data = multi_hot_sequences(test_data, dimension=NUM_WORDS)"
   ]
  },
  {
   "cell_type": "code",
   "execution_count": 10,
   "metadata": {},
   "outputs": [
    {
     "data": {
      "image/png": "[encoded data removed]",
      "text/plain": [
       "<matplotlib.figure.Figure at 0x7fcf8589fa20>"
      ]
     },
     "metadata": {},
     "output_type": "display_data"
    }
   ],
   "source": [
    "#字词索引按频率排序，因此索引 0 附近应该有更多的 1 值\n",
    "plt.plot(train_data[0])\n",
    "plt.show()"
   ]
  },
  {
   "cell_type": "markdown",
   "metadata": {},
   "source": [
    "## 创建基准模型"
   ]
  },
  {
   "cell_type": "code",
   "execution_count": 11,
   "metadata": {},
   "outputs": [
    {
     "name": "stdout",
     "output_type": "stream",
     "text": [
      "Model: \"sequential\"\n",
      "_________________________________________________________________\n",
      "Layer (type)                 Output Shape              Param #   \n",
      "=================================================================\n",
      "dense (Dense)                (None, 16)                160016    \n",
      "_________________________________________________________________\n",
      "dense_1 (Dense)              (None, 16)                272       \n",
      "_________________________________________________________________\n",
      "dense_2 (Dense)              (None, 1)                 17        \n",
      "=================================================================\n",
      "Total params: 160,305\n",
      "Trainable params: 160,305\n",
      "Non-trainable params: 0\n",
      "_________________________________________________________________\n"
     ]
    }
   ],
   "source": [
    "baseline_model = keras.Sequential([\n",
    "    # `input_shape` is only required here so that `.summary` works.\n",
    "    keras.layers.Dense(16, activation=tf.nn.relu, input_shape=(NUM_WORDS,)),\n",
    "    keras.layers.Dense(16, activation=tf.nn.relu),\n",
    "    keras.layers.Dense(1, activation=tf.nn.sigmoid)\n",
    "])\n",
    "\n",
    "baseline_model.compile(optimizer='adam',\n",
    "                       loss='binary_crossentropy',\n",
    "                       metrics=['accuracy', 'binary_crossentropy'])\n",
    "\n",
    "baseline_model.summary()"
   ]
  },
  {
   "cell_type": "code",
   "execution_count": 12,
   "metadata": {},
   "outputs": [
    {
     "name": "stdout",
     "output_type": "stream",
     "text": [
      "Train on 25000 samples, validate on 25000 samples\n",
      "Epoch 1/20\n",
      "25000/25000 - 5s - loss: 0.4742 - accuracy: 0.8160 - binary_crossentropy: 0.4742 - val_loss: 0.3330 - val_accuracy: 0.8785 - val_binary_crossentropy: 0.3330\n",
      "Epoch 2/20\n",
      "25000/25000 - 4s - loss: 0.2482 - accuracy: 0.9123 - binary_crossentropy: 0.2482 - val_loss: 0.2861 - val_accuracy: 0.8887 - val_binary_crossentropy: 0.2861\n",
      "Epoch 3/20\n",
      "25000/25000 - 4s - loss: 0.1850 - accuracy: 0.9340 - binary_crossentropy: 0.1850 - val_loss: 0.2894 - val_accuracy: 0.8858 - val_binary_crossentropy: 0.2894\n",
      "Epoch 4/20\n",
      "25000/25000 - 4s - loss: 0.1514 - accuracy: 0.9484 - binary_crossentropy: 0.1514 - val_loss: 0.3125 - val_accuracy: 0.8778 - val_binary_crossentropy: 0.3125\n",
      "Epoch 5/20\n",
      "25000/25000 - 4s - loss: 0.1259 - accuracy: 0.9573 - binary_crossentropy: 0.1259 - val_loss: 0.3290 - val_accuracy: 0.8765 - val_binary_crossentropy: 0.3290\n",
      "Epoch 6/20\n",
      "25000/25000 - 4s - loss: 0.1061 - accuracy: 0.9665 - binary_crossentropy: 0.1061 - val_loss: 0.3554 - val_accuracy: 0.8722 - val_binary_crossentropy: 0.3554\n",
      "Epoch 7/20\n",
      "25000/25000 - 5s - loss: 0.0900 - accuracy: 0.9719 - binary_crossentropy: 0.0900 - val_loss: 0.3868 - val_accuracy: 0.8695 - val_binary_crossentropy: 0.3868\n",
      "Epoch 8/20\n",
      "25000/25000 - 4s - loss: 0.0779 - accuracy: 0.9774 - binary_crossentropy: 0.0779 - val_loss: 0.4204 - val_accuracy: 0.8654 - val_binary_crossentropy: 0.4204\n",
      "Epoch 9/20\n",
      "25000/25000 - 4s - loss: 0.0653 - accuracy: 0.9826 - binary_crossentropy: 0.0653 - val_loss: 0.4562 - val_accuracy: 0.8638 - val_binary_crossentropy: 0.4562\n",
      "Epoch 10/20\n",
      "25000/25000 - 3s - loss: 0.0575 - accuracy: 0.9858 - binary_crossentropy: 0.0575 - val_loss: 0.4950 - val_accuracy: 0.8597 - val_binary_crossentropy: 0.4950\n",
      "Epoch 11/20\n",
      "25000/25000 - 4s - loss: 0.0471 - accuracy: 0.9894 - binary_crossentropy: 0.0471 - val_loss: 0.5338 - val_accuracy: 0.8575 - val_binary_crossentropy: 0.5338\n",
      "Epoch 12/20\n",
      "25000/25000 - 3s - loss: 0.0391 - accuracy: 0.9924 - binary_crossentropy: 0.0391 - val_loss: 0.5745 - val_accuracy: 0.8558 - val_binary_crossentropy: 0.5745\n",
      "Epoch 13/20\n",
      "25000/25000 - 4s - loss: 0.0329 - accuracy: 0.9944 - binary_crossentropy: 0.0329 - val_loss: 0.6261 - val_accuracy: 0.8527 - val_binary_crossentropy: 0.6261\n",
      "Epoch 14/20\n",
      "25000/25000 - 3s - loss: 0.0263 - accuracy: 0.9964 - binary_crossentropy: 0.0263 - val_loss: 0.6723 - val_accuracy: 0.8502 - val_binary_crossentropy: 0.6723\n",
      "Epoch 15/20\n",
      "25000/25000 - 3s - loss: 0.0210 - accuracy: 0.9974 - binary_crossentropy: 0.0210 - val_loss: 0.7146 - val_accuracy: 0.8501 - val_binary_crossentropy: 0.7146\n",
      "Epoch 16/20\n",
      "25000/25000 - 3s - loss: 0.0163 - accuracy: 0.9985 - binary_crossentropy: 0.0163 - val_loss: 0.7720 - val_accuracy: 0.8489 - val_binary_crossentropy: 0.7720\n",
      "Epoch 17/20\n",
      "25000/25000 - 3s - loss: 0.0129 - accuracy: 0.9991 - binary_crossentropy: 0.0129 - val_loss: 0.8184 - val_accuracy: 0.8486 - val_binary_crossentropy: 0.8184\n",
      "Epoch 18/20\n",
      "25000/25000 - 4s - loss: 0.0101 - accuracy: 0.9994 - binary_crossentropy: 0.0101 - val_loss: 0.8652 - val_accuracy: 0.8485 - val_binary_crossentropy: 0.8652\n",
      "Epoch 19/20\n",
      "25000/25000 - 4s - loss: 0.0078 - accuracy: 0.9998 - binary_crossentropy: 0.0078 - val_loss: 0.9106 - val_accuracy: 0.8472 - val_binary_crossentropy: 0.9106\n",
      "Epoch 20/20\n",
      "25000/25000 - 4s - loss: 0.0063 - accuracy: 0.9998 - binary_crossentropy: 0.0063 - val_loss: 0.9489 - val_accuracy: 0.8476 - val_binary_crossentropy: 0.9489\n"
     ]
    }
   ],
   "source": [
    "baseline_history = baseline_model.fit(train_data,\n",
    "                                      train_labels,\n",
    "                                      epochs=20,\n",
    "                                      batch_size=512,\n",
    "                                      validation_data=(test_data, test_labels),\n",
    "                                      verbose=2)"
   ]
  },
  {
   "cell_type": "markdown",
   "metadata": {},
   "source": [
    "## 创建一个更小的模型"
   ]
  },
  {
   "cell_type": "code",
   "execution_count": 13,
   "metadata": {},
   "outputs": [
    {
     "name": "stdout",
     "output_type": "stream",
     "text": [
      "Model: \"sequential_1\"\n",
      "_________________________________________________________________\n",
      "Layer (type)                 Output Shape              Param #   \n",
      "=================================================================\n",
      "dense_3 (Dense)              (None, 4)                 40004     \n",
      "_________________________________________________________________\n",
      "dense_4 (Dense)              (None, 4)                 20        \n",
      "_________________________________________________________________\n",
      "dense_5 (Dense)              (None, 1)                 5         \n",
      "=================================================================\n",
      "Total params: 40,029\n",
      "Trainable params: 40,029\n",
      "Non-trainable params: 0\n",
      "_________________________________________________________________\n"
     ]
    }
   ],
   "source": [
    "#创建一个隐藏单元更少的模型，然后与我们刚刚创建的基准模型进行比较：\n",
    "smaller_model = keras.Sequential([\n",
    "    keras.layers.Dense(4, activation=tf.nn.relu, input_shape=(NUM_WORDS,)),\n",
    "    keras.layers.Dense(4, activation=tf.nn.relu),\n",
    "    keras.layers.Dense(1, activation=tf.nn.sigmoid)\n",
    "])\n",
    "\n",
    "smaller_model.compile(optimizer='adam',\n",
    "                loss='binary_crossentropy',\n",
    "                metrics=['accuracy', 'binary_crossentropy'])\n",
    "\n",
    "smaller_model.summary()"
   ]
  },
  {
   "cell_type": "code",
   "execution_count": 14,
   "metadata": {},
   "outputs": [
    {
     "name": "stdout",
     "output_type": "stream",
     "text": [
      "Train on 25000 samples, validate on 25000 samples\n",
      "Epoch 1/20\n",
      "25000/25000 - 3s - loss: 0.6422 - accuracy: 0.6156 - binary_crossentropy: 0.6422 - val_loss: 0.5949 - val_accuracy: 0.6839 - val_binary_crossentropy: 0.5949\n",
      "Epoch 2/20\n",
      "25000/25000 - 3s - loss: 0.5465 - accuracy: 0.7800 - binary_crossentropy: 0.5465 - val_loss: 0.5284 - val_accuracy: 0.7818 - val_binary_crossentropy: 0.5284\n",
      "Epoch 3/20\n",
      "25000/25000 - 3s - loss: 0.4841 - accuracy: 0.8516 - binary_crossentropy: 0.4841 - val_loss: 0.4885 - val_accuracy: 0.8216 - val_binary_crossentropy: 0.4885\n",
      "Epoch 4/20\n",
      "25000/25000 - 3s - loss: 0.4408 - accuracy: 0.8866 - binary_crossentropy: 0.4408 - val_loss: 0.4607 - val_accuracy: 0.8524 - val_binary_crossentropy: 0.4607\n",
      "Epoch 5/20\n",
      "25000/25000 - 4s - loss: 0.4081 - accuracy: 0.9086 - binary_crossentropy: 0.4081 - val_loss: 0.4453 - val_accuracy: 0.8573 - val_binary_crossentropy: 0.4453\n",
      "Epoch 6/20\n",
      "25000/25000 - 3s - loss: 0.3818 - accuracy: 0.9238 - binary_crossentropy: 0.3818 - val_loss: 0.4304 - val_accuracy: 0.8695 - val_binary_crossentropy: 0.4304\n",
      "Epoch 7/20\n",
      "25000/25000 - 3s - loss: 0.3588 - accuracy: 0.9358 - binary_crossentropy: 0.3588 - val_loss: 0.4209 - val_accuracy: 0.8737 - val_binary_crossentropy: 0.4209\n",
      "Epoch 8/20\n",
      "25000/25000 - 3s - loss: 0.3389 - accuracy: 0.9451 - binary_crossentropy: 0.3389 - val_loss: 0.4196 - val_accuracy: 0.8686 - val_binary_crossentropy: 0.4196\n",
      "Epoch 9/20\n",
      "25000/25000 - 3s - loss: 0.3208 - accuracy: 0.9516 - binary_crossentropy: 0.3208 - val_loss: 0.4228 - val_accuracy: 0.8642 - val_binary_crossentropy: 0.4228\n",
      "Epoch 10/20\n",
      "25000/25000 - 3s - loss: 0.3044 - accuracy: 0.9570 - binary_crossentropy: 0.3044 - val_loss: 0.4160 - val_accuracy: 0.8702 - val_binary_crossentropy: 0.4160\n",
      "Epoch 11/20\n",
      "25000/25000 - 3s - loss: 0.2894 - accuracy: 0.9625 - binary_crossentropy: 0.2894 - val_loss: 0.4209 - val_accuracy: 0.8664 - val_binary_crossentropy: 0.4209\n",
      "Epoch 12/20\n",
      "25000/25000 - 3s - loss: 0.2754 - accuracy: 0.9666 - binary_crossentropy: 0.2754 - val_loss: 0.4149 - val_accuracy: 0.8698 - val_binary_crossentropy: 0.4149\n",
      "Epoch 13/20\n",
      "25000/25000 - 3s - loss: 0.2624 - accuracy: 0.9698 - binary_crossentropy: 0.2624 - val_loss: 0.4163 - val_accuracy: 0.8692 - val_binary_crossentropy: 0.4163\n",
      "Epoch 14/20\n",
      "25000/25000 - 4s - loss: 0.2500 - accuracy: 0.9731 - binary_crossentropy: 0.2500 - val_loss: 0.4239 - val_accuracy: 0.8662 - val_binary_crossentropy: 0.4239\n",
      "Epoch 15/20\n",
      "25000/25000 - 3s - loss: 0.2386 - accuracy: 0.9760 - binary_crossentropy: 0.2386 - val_loss: 0.4371 - val_accuracy: 0.8638 - val_binary_crossentropy: 0.4371\n",
      "Epoch 16/20\n",
      "25000/25000 - 3s - loss: 0.2258 - accuracy: 0.9779 - binary_crossentropy: 0.2258 - val_loss: 0.4514 - val_accuracy: 0.8628 - val_binary_crossentropy: 0.4514\n",
      "Epoch 17/20\n",
      "25000/25000 - 3s - loss: 0.2134 - accuracy: 0.9809 - binary_crossentropy: 0.2134 - val_loss: 0.4585 - val_accuracy: 0.8640 - val_binary_crossentropy: 0.4585\n",
      "Epoch 18/20\n",
      "25000/25000 - 3s - loss: 0.2018 - accuracy: 0.9832 - binary_crossentropy: 0.2018 - val_loss: 0.5031 - val_accuracy: 0.8616 - val_binary_crossentropy: 0.5031\n",
      "Epoch 19/20\n",
      "25000/25000 - 3s - loss: 0.1903 - accuracy: 0.9853 - binary_crossentropy: 0.1903 - val_loss: 0.5293 - val_accuracy: 0.8617 - val_binary_crossentropy: 0.5293\n",
      "Epoch 20/20\n",
      "25000/25000 - 4s - loss: 0.1802 - accuracy: 0.9874 - binary_crossentropy: 0.1802 - val_loss: 0.5718 - val_accuracy: 0.8613 - val_binary_crossentropy: 0.5718\n"
     ]
    }
   ],
   "source": [
    "smaller_history = smaller_model.fit(train_data,\n",
    "                                    train_labels,\n",
    "                                    epochs=20,\n",
    "                                    batch_size=512,\n",
    "                                    validation_data=(test_data, test_labels),\n",
    "                                    verbose=2)"
   ]
  },
  {
   "cell_type": "markdown",
   "metadata": {},
   "source": [
    "## 创建一个更大的模型"
   ]
  },
  {
   "cell_type": "code",
   "execution_count": 16,
   "metadata": {},
   "outputs": [
    {
     "name": "stdout",
     "output_type": "stream",
     "text": [
      "Model: \"sequential_2\"\n",
      "_________________________________________________________________\n",
      "Layer (type)                 Output Shape              Param #   \n",
      "=================================================================\n",
      "dense_6 (Dense)              (None, 512)               5120512   \n",
      "_________________________________________________________________\n",
      "dense_7 (Dense)              (None, 512)               262656    \n",
      "_________________________________________________________________\n",
      "dense_8 (Dense)              (None, 1)                 513       \n",
      "=================================================================\n",
      "Total params: 5,383,681\n",
      "Trainable params: 5,383,681\n",
      "Non-trainable params: 0\n",
      "_________________________________________________________________\n",
      "Train on 25000 samples, validate on 25000 samples\n",
      "Epoch 1/20\n",
      "25000/25000 - 20s - loss: 0.3437 - accuracy: 0.8527 - binary_crossentropy: 0.3437 - val_loss: 0.2941 - val_accuracy: 0.8807 - val_binary_crossentropy: 0.2941\n",
      "Epoch 2/20\n",
      "25000/25000 - 18s - loss: 0.1472 - accuracy: 0.9466 - binary_crossentropy: 0.1472 - val_loss: 0.3333 - val_accuracy: 0.8715 - val_binary_crossentropy: 0.3333\n",
      "Epoch 3/20\n",
      "25000/25000 - 19s - loss: 0.0548 - accuracy: 0.9837 - binary_crossentropy: 0.0548 - val_loss: 0.4399 - val_accuracy: 0.8681 - val_binary_crossentropy: 0.4399\n",
      "Epoch 4/20\n",
      "25000/25000 - 18s - loss: 0.0094 - accuracy: 0.9982 - binary_crossentropy: 0.0094 - val_loss: 0.6002 - val_accuracy: 0.8650 - val_binary_crossentropy: 0.6002\n",
      "Epoch 5/20\n",
      "25000/25000 - 18s - loss: 0.0013 - accuracy: 1.0000 - binary_crossentropy: 0.0013 - val_loss: 0.6891 - val_accuracy: 0.8702 - val_binary_crossentropy: 0.6891\n",
      "Epoch 6/20\n",
      "25000/25000 - 18s - loss: 2.9669e-04 - accuracy: 1.0000 - binary_crossentropy: 2.9669e-04 - val_loss: 0.7353 - val_accuracy: 0.8702 - val_binary_crossentropy: 0.7353\n",
      "Epoch 7/20\n",
      "25000/25000 - 18s - loss: 1.5862e-04 - accuracy: 1.0000 - binary_crossentropy: 1.5862e-04 - val_loss: 0.7692 - val_accuracy: 0.8701 - val_binary_crossentropy: 0.7692\n",
      "Epoch 8/20\n",
      "25000/25000 - 18s - loss: 1.1114e-04 - accuracy: 1.0000 - binary_crossentropy: 1.1114e-04 - val_loss: 0.7940 - val_accuracy: 0.8697 - val_binary_crossentropy: 0.7940\n",
      "Epoch 9/20\n",
      "25000/25000 - 18s - loss: 8.4274e-05 - accuracy: 1.0000 - binary_crossentropy: 8.4274e-05 - val_loss: 0.8138 - val_accuracy: 0.8695 - val_binary_crossentropy: 0.8138\n",
      "Epoch 10/20\n",
      "25000/25000 - 18s - loss: 6.6762e-05 - accuracy: 1.0000 - binary_crossentropy: 6.6762e-05 - val_loss: 0.8309 - val_accuracy: 0.8698 - val_binary_crossentropy: 0.8309\n",
      "Epoch 11/20\n",
      "25000/25000 - 18s - loss: 5.4209e-05 - accuracy: 1.0000 - binary_crossentropy: 5.4209e-05 - val_loss: 0.8464 - val_accuracy: 0.8698 - val_binary_crossentropy: 0.8464\n",
      "Epoch 12/20\n",
      "25000/25000 - 18s - loss: 4.5103e-05 - accuracy: 1.0000 - binary_crossentropy: 4.5103e-05 - val_loss: 0.8600 - val_accuracy: 0.8698 - val_binary_crossentropy: 0.8600\n",
      "Epoch 13/20\n",
      "25000/25000 - 18s - loss: 3.7902e-05 - accuracy: 1.0000 - binary_crossentropy: 3.7902e-05 - val_loss: 0.8722 - val_accuracy: 0.8699 - val_binary_crossentropy: 0.8722\n",
      "Epoch 14/20\n",
      "25000/25000 - 18s - loss: 3.2445e-05 - accuracy: 1.0000 - binary_crossentropy: 3.2445e-05 - val_loss: 0.8842 - val_accuracy: 0.8700 - val_binary_crossentropy: 0.8842\n",
      "Epoch 15/20\n",
      "25000/25000 - 18s - loss: 2.7983e-05 - accuracy: 1.0000 - binary_crossentropy: 2.7983e-05 - val_loss: 0.8950 - val_accuracy: 0.8700 - val_binary_crossentropy: 0.8950\n",
      "Epoch 16/20\n",
      "25000/25000 - 18s - loss: 2.4460e-05 - accuracy: 1.0000 - binary_crossentropy: 2.4460e-05 - val_loss: 0.9054 - val_accuracy: 0.8700 - val_binary_crossentropy: 0.9054\n",
      "Epoch 17/20\n",
      "25000/25000 - 21s - loss: 2.1460e-05 - accuracy: 1.0000 - binary_crossentropy: 2.1460e-05 - val_loss: 0.9150 - val_accuracy: 0.8701 - val_binary_crossentropy: 0.9150\n",
      "Epoch 18/20\n",
      "25000/25000 - 21s - loss: 1.8989e-05 - accuracy: 1.0000 - binary_crossentropy: 1.8989e-05 - val_loss: 0.9241 - val_accuracy: 0.8702 - val_binary_crossentropy: 0.9241\n",
      "Epoch 19/20\n",
      "25000/25000 - 18s - loss: 1.6905e-05 - accuracy: 1.0000 - binary_crossentropy: 1.6905e-05 - val_loss: 0.9327 - val_accuracy: 0.8702 - val_binary_crossentropy: 0.9327\n",
      "Epoch 20/20\n",
      "25000/25000 - 18s - loss: 1.5134e-05 - accuracy: 1.0000 - binary_crossentropy: 1.5134e-05 - val_loss: 0.9411 - val_accuracy: 0.8703 - val_binary_crossentropy: 0.9411\n"
     ]
    }
   ],
   "source": [
    "#创建一个更大的模型，看看它多快开始过拟合。接下来，我们向这个基准添加一个容量大得多的网络，远远超出解决问题所需的容量：\n",
    "bigger_model = keras.models.Sequential([\n",
    "    keras.layers.Dense(512, activation=tf.nn.relu, input_shape=(NUM_WORDS,)),\n",
    "    keras.layers.Dense(512, activation=tf.nn.relu),\n",
    "    keras.layers.Dense(1, activation=tf.nn.sigmoid)\n",
    "])\n",
    "\n",
    "bigger_model.compile(optimizer='adam',\n",
    "                     loss='binary_crossentropy',\n",
    "                     metrics=['accuracy','binary_crossentropy'])\n",
    "\n",
    "bigger_model.summary()\n",
    "\n",
    "bigger_history = bigger_model.fit(train_data, train_labels,\n",
    "                                  epochs=20,\n",
    "                                  batch_size=512,\n",
    "                                  validation_data=(test_data, test_labels),\n",
    "                                  verbose=2)\n"
   ]
  },
  {
   "cell_type": "code",
   "execution_count": null,
   "metadata": {
    "collapsed": true
   },
   "outputs": [],
   "source": []
  }
 ],
 "metadata": {
  "kernelspec": {
   "display_name": "Python 3",
   "language": "python",
   "name": "python3"
  },
  "language_info": {
   "codemirror_mode": {
    "name": "ipython",
    "version": 3
   },
   "file_extension": ".py",
   "mimetype": "text/x-python",
   "name": "python",
   "nbconvert_exporter": "python",
   "pygments_lexer": "ipython3",
   "version": "3.6.2"
  }
 },
 "nbformat": 4,
 "nbformat_minor": 2
}
